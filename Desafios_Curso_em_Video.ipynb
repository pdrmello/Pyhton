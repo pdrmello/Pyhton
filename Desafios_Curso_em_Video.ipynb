{
  "nbformat": 4,
  "nbformat_minor": 0,
  "metadata": {
    "colab": {
      "name": "Desafios - Curso em Video.ipynb",
      "provenance": []
    },
    "kernelspec": {
      "name": "python3",
      "display_name": "Python 3"
    },
    "language_info": {
      "name": "python"
    }
  },
  "cells": [
    {
      "cell_type": "markdown",
      "source": [
        "DESAFIO 01 - Crie um script Python que leia o nome de uma pessoa e mostre uma mensagem de boas vindas de acordo com o valor digitado. "
      ],
      "metadata": {
        "id": "Tv0zJ_6i6tVx"
      }
    },
    {
      "cell_type": "code",
      "source": [
        "print(\"DESAFIO 01\")\n",
        "nome = input(\"Qual é o seu nome? \")\n",
        "print(\"Seja bem vindo\",nome)"
      ],
      "metadata": {
        "colab": {
          "base_uri": "https://localhost:8080/"
        },
        "id": "Z_VmBNQr66__",
        "outputId": "e6cf9785-d944-4198-8763-13009b011af6"
      },
      "execution_count": null,
      "outputs": [
        {
          "output_type": "stream",
          "name": "stdout",
          "text": [
            "DESAFIO 01\n",
            "Qual é o seu nome? Pedro\n",
            "Seja bem vindo Pedro\n"
          ]
        }
      ]
    },
    {
      "cell_type": "code",
      "source": [
        "print(\"RESOLUÇÃO DESAFIO 01\")\n",
        "nome = input(\"Digite seu nome: \")\n",
        "print(\"É um prazer te conhecer, {}!\".format(nome))\n",
        "# {} é uma mascara. e o nome entrará nas {} por causa do .format"
      ],
      "metadata": {
        "colab": {
          "base_uri": "https://localhost:8080/"
        },
        "id": "4oI-fdORCdxV",
        "outputId": "e4701a34-d40f-400e-b779-91740be571f8"
      },
      "execution_count": null,
      "outputs": [
        {
          "output_type": "stream",
          "name": "stdout",
          "text": [
            "RESOLUÇÃO\n",
            "Digite seu nome: Pedro\n",
            "É um prazer te conhecer, Pedro!\n"
          ]
        }
      ]
    },
    {
      "cell_type": "markdown",
      "source": [
        "DESAFIO 02 - Crie um script Python que leia o dia, o mês e o ano de nascimento de uma pessoa e mostre uma mensagem com a data formatada."
      ],
      "metadata": {
        "id": "FVCeiYp87da0"
      }
    },
    {
      "cell_type": "code",
      "source": [
        "print(\"DESAFIO 02\")\n",
        "d = input(\"Digite o dia que você nasceu: \")\n",
        "m = input(\"Digite o mês que você nasceu: \")\n",
        "a = input(\"Digite o ano que você nasceu: \")\n",
        "print(\"Você nasceu no dia\", d,\"de\", m,\"de\", a)"
      ],
      "metadata": {
        "colab": {
          "base_uri": "https://localhost:8080/"
        },
        "id": "m5p9HsY_70OU",
        "outputId": "7496bfbf-35c5-40ac-bd34-f9024b4316d4"
      },
      "execution_count": null,
      "outputs": [
        {
          "output_type": "stream",
          "name": "stdout",
          "text": [
            "DESAFIO 02\n",
            "Digite o dia que você nasceu: 02\n",
            "Digite o mês que você nasceu: Setembro\n",
            "Digite o ano que você nasceu: 1996\n",
            "Você nasceu no dia 02 de Setembro de 1996\n"
          ]
        }
      ]
    },
    {
      "cell_type": "markdown",
      "source": [
        "DESAFIO 03 - Crie um script Python que leia dois números e tente mostrar a soma entre eles."
      ],
      "metadata": {
        "id": "Kszuu04_8scU"
      }
    },
    {
      "cell_type": "code",
      "source": [
        "print(\"DESAFIO 03\")\n",
        "n1 = int(input(\"Digite um número: \"))\n",
        "n2 = int(input(\"Digite outro número: \"))\n",
        "v = n1 + n2\n",
        "print(\"A soma deles é\", v)\n",
        "# normal (para a aula) era não utilizar o int"
      ],
      "metadata": {
        "colab": {
          "base_uri": "https://localhost:8080/"
        },
        "id": "IkLFS83O84oU",
        "outputId": "34d2632d-a700-4ff5-d2f7-c0920baa530f"
      },
      "execution_count": null,
      "outputs": [
        {
          "output_type": "stream",
          "name": "stdout",
          "text": [
            "Digite um número: 8\n",
            "Digite outro número: 8\n",
            "A soma deles é 16\n"
          ]
        }
      ]
    },
    {
      "cell_type": "code",
      "source": [
        "print(\"DESAFIO 03 COM ERRO\")\n",
        "n1 = input(\"Digite um número: \")\n",
        "n2 = input(\"Digite outro número: \")\n",
        "v = n1 + n2\n",
        "print(\"A soma dele é\", v)\n",
        "# está concatenando as strings"
      ],
      "metadata": {
        "colab": {
          "base_uri": "https://localhost:8080/"
        },
        "id": "mpye8d6Hr-a5",
        "outputId": "4a8c6f8e-383a-449f-dcd1-4335716b467c"
      },
      "execution_count": null,
      "outputs": [
        {
          "output_type": "stream",
          "name": "stdout",
          "text": [
            "DESAFIO 03 COM ERRO\n",
            "Digite um número: 8\n",
            "Digite outro número: 8\n",
            "A soma dele é 88\n"
          ]
        }
      ]
    },
    {
      "cell_type": "code",
      "source": [
        "print(\"RESOLUÇÃO DESAFIO 03\")\n",
        "#n1 = input(\"Digite um valor: \")\n",
        "#n2 = input(\"Digite outro valor: \")\n",
        "#s = n1 + n2\n",
        "#print(\"A soma de {} e {} é igual a {}!\".format(n1, n2, s))\n",
        "n1 = int(input(\"Digite um valor: \"))\n",
        "n2 = int(input(\"Digite outro valor: \"))\n",
        "s = n1 + n2\n",
        "print(\"A soma de {} e {} é igual a {}!\".format(n1, n2, s))"
      ],
      "metadata": {
        "colab": {
          "base_uri": "https://localhost:8080/"
        },
        "id": "pPbi8t2we0LY",
        "outputId": "b44359e0-6026-4066-e999-15aed2d579d2"
      },
      "execution_count": null,
      "outputs": [
        {
          "output_type": "stream",
          "name": "stdout",
          "text": [
            "DESAFIO 03 RESOLUÇÃO\n",
            "Digite um valor: 8\n",
            "Digite outro valor: 8\n",
            "A soma de 8 e 8 é igual a 16!\n"
          ]
        }
      ]
    },
    {
      "cell_type": "markdown",
      "source": [
        "DESAFIO 03 COM TIPOS PRIMITIVOS - Crie um script Python que leia dois números e tente mostrar a soma entre eles."
      ],
      "metadata": {
        "id": "OUdQ9JqB3E64"
      }
    },
    {
      "cell_type": "code",
      "source": [
        "print(\"DESAFIO 03 COM TIPOS PRIMITIVOS\")\n",
        "n1 = int(input(\"Digite um número: \"))\n",
        "n2 = int(input(\"Digite outro número: \"))\n",
        "s = n1 + n2\n",
        "print(\"A soma de {} com {} é igual a {}\".format(n1, n2, s))"
      ],
      "metadata": {
        "colab": {
          "base_uri": "https://localhost:8080/"
        },
        "id": "PhHEkK9U3ZhQ",
        "outputId": "7cb25d6c-2ec3-46d2-ba9e-3e6f6e243599"
      },
      "execution_count": null,
      "outputs": [
        {
          "output_type": "stream",
          "name": "stdout",
          "text": [
            "DESAFIO 03 COM TIPOS PRIMITIVOS\n",
            "Digite um número: 8\n",
            "Digite outro número: 2\n",
            "A soma de 8 com 2 é igual a 10\n"
          ]
        }
      ]
    },
    {
      "cell_type": "markdown",
      "source": [
        "DESAFIO 04 - Faça um programa que leia algo pelo teclado e mostre na tela seu tipo primitivo e todas as informações possíveis sobre ela."
      ],
      "metadata": {
        "id": "RcbDqUig4W1L"
      }
    },
    {
      "cell_type": "code",
      "source": [
        "print(\"DESAFIO 04\")\n",
        "n = input(\"Digite qualquer coisa: \")\n",
        "print(type(n))\n",
        "print(\"É um número?\",n.isnumeric())\n",
        "print(\"É alfabético?\", n.isalpha())\n",
        "print(\"É alfanumérico?\", n.isalnum())"
      ],
      "metadata": {
        "colab": {
          "base_uri": "https://localhost:8080/"
        },
        "id": "O7beuQXb5oQb",
        "outputId": "eb21cd2d-d2a0-4a18-c38d-dded46906c19"
      },
      "execution_count": null,
      "outputs": [
        {
          "output_type": "stream",
          "name": "stdout",
          "text": [
            "DESAFIO 04\n",
            "Digite qualquer coisa: 50\n",
            "<class 'str'>\n",
            "É um número? True\n",
            "É alfabético? False\n",
            "É alfanumérico? True\n"
          ]
        }
      ]
    },
    {
      "cell_type": "code",
      "source": [
        "print(\"RESOLUÇÃO DESAFIO 04\")\n",
        "a = input(\"Digite algo: \")\n",
        "print(\"O tipo primitivo desse valor é:\", type(a))\n",
        "# sempre será string por não ter especificado o tipo primitivo\n",
        "print(\"Só tem espaços?\", a.isspace())\n",
        "print(\"É um número?\", a.isnumeric())\n",
        "print(\"É alfabético?\", a.isalpha())\n",
        "print(\"É alfanumérico?\", a.isalnum())\n",
        "print(\"Está em maiúsculas?\", a.isupper())\n",
        "print(\"Está em minúsculas?\", a.islower())\n",
        "print(\"Está capitalizada?\", a.istitle())\n",
        "# capitalizada é com letras maiúscula e minúscula"
      ],
      "metadata": {
        "colab": {
          "base_uri": "https://localhost:8080/"
        },
        "id": "VnWqcWNtgaqi",
        "outputId": "86ea7663-fdda-43bb-966f-b2e656bfb7ca"
      },
      "execution_count": null,
      "outputs": [
        {
          "output_type": "stream",
          "name": "stdout",
          "text": [
            "RESOLUÇÃO DESAFIO 04\n",
            "Digite algo: Pedro\n",
            "O tipo primitivo desse valor é: <class 'str'>\n",
            "Só tem espaços? False\n",
            "É um número? False\n",
            "É alfabético? True\n",
            "É alfanumérico? True\n",
            "Está em maiúsculas? False\n",
            "Está em minúsculas? False\n",
            "Está capitalizada? True\n"
          ]
        }
      ]
    },
    {
      "cell_type": "markdown",
      "source": [
        "DESAFIO 05 - Faça um programa que leia um número inteiro e mostre na tela seu sucessor e seu antecessor."
      ],
      "metadata": {
        "id": "ADzp4LeIZ6qW"
      }
    },
    {
      "cell_type": "code",
      "source": [
        "print(\"DESAFIO 05\")\n",
        "n = int(input(\"Digite um número: \"))\n",
        "n1 = n - 1\n",
        "n2 = n + 1\n",
        "print(\"O seu número é {}, antecessor é {}, o sucessor é {}.\".format(n, n1, n2))"
      ],
      "metadata": {
        "colab": {
          "base_uri": "https://localhost:8080/"
        },
        "id": "QUX-NOBacMZK",
        "outputId": "f642d60e-8baa-4609-d0c3-3be696521488"
      },
      "execution_count": null,
      "outputs": [
        {
          "output_type": "stream",
          "name": "stdout",
          "text": [
            "DESAFIO 05\n",
            "Digite um número: 20\n",
            "O seu número é 20, antecessor é 19, o sucessor é 21.\n"
          ]
        }
      ]
    },
    {
      "cell_type": "code",
      "source": [
        "print(\"RESOLUÇÃO DESAFIO 05\")\n",
        "n = int(input(\"Digite um número: \"))\n",
        "a = n - 1\n",
        "s = n + 1\n",
        "# print(\"Analisando o valor {}, seu antecessor é {} e o seu sucessor é {}\"\n",
        "# .format(n, a, s))\n",
        "print(\"Analisando o valor {}, seu antecessor é {} e o seu sucessor é {}.\"\n",
        ".format(n, (n-1), (n+1)))"
      ],
      "metadata": {
        "colab": {
          "base_uri": "https://localhost:8080/"
        },
        "id": "qeHIFSeame2H",
        "outputId": "39bf7b36-2447-4636-8067-7e6fb3bbb81b"
      },
      "execution_count": null,
      "outputs": [
        {
          "output_type": "stream",
          "name": "stdout",
          "text": [
            "RESOLUÇÃO DESAFIO 05\n",
            "Digite um número: 5\n",
            "Analisando o valor 5, seu antecessor é 4 e o seu sucessor é 6.\n"
          ]
        }
      ]
    },
    {
      "cell_type": "markdown",
      "source": [
        "DESAFIO 06 - Crie um algoritmo que leia um número e mostre o seu dobro, seu triplo e sua raiz quadrada."
      ],
      "metadata": {
        "id": "MmCtowI_aH92"
      }
    },
    {
      "cell_type": "code",
      "source": [
        "print(\"DESAFIO 06\")\n",
        "n = int(input(\"Digite um número: \"))\n",
        "n1 = n*2\n",
        "n2 = n*3\n",
        "print(\"O seu número é {}, o dobro é {} e o triplo é {}.\".format(n, n1, n2))\n",
        "print(\"A raiz quadrada é {}\".format(n*1/2))"
      ],
      "metadata": {
        "colab": {
          "base_uri": "https://localhost:8080/"
        },
        "id": "ftCwL_c_cMwd",
        "outputId": "d06f6397-b0e0-4753-da21-7bc8c7d1bd8f"
      },
      "execution_count": null,
      "outputs": [
        {
          "output_type": "stream",
          "name": "stdout",
          "text": [
            "DESAFIO 06\n",
            "Digite um número: 5\n",
            "O seu número é 5, o dobro é 10 e o triplo é 15.\n",
            "A raiz quadrada é 2.5\n"
          ]
        }
      ]
    },
    {
      "cell_type": "code",
      "source": [
        "print(\"RESOLUÇÃO DESAFIO 06\")\n",
        "n = int(input(\"Digite um número: \"))\n",
        "# d = n * 2\n",
        "# t = n * 3\n",
        "# r = n ** (1/2)\n",
        "# print(\"O dobro de {} vale {}.\".format(n, d))\n",
        "# print(\"O triplo de {} vale {}.\".format(n, t))\n",
        "# print(\"A raiz quadrada de {} vale {:.2f}.\".format(n, r))\n",
        "print(\"O dobro de {} vale {}.\".format(n, n*2))\n",
        "print(\"O triplo de {} vale {}.\".format(n, n*3))\n",
        "# print(\"A raiz quadrada de {} vale {:.2f}\".format(n, (n**(1/2))))\n",
        "# a raiz quadrada da para fazer com a função de pow()\n",
        "print(\"A raiz quadrada de {} vale {:.2f}.\".format(n, pow(n,1/2)))\n",
        "# Novo formato de usar o .format, usar o f antes \"\"\n",
        "# print(f\"O dobro de {n} vale {n*2}\")\n",
        "# print(f\"O triplo de {n} vale {n*3}\")\n",
        "# print(f\"A raiz quadrada de {n} vale {(n**(1/2)):.2f} \")"
      ],
      "metadata": {
        "colab": {
          "base_uri": "https://localhost:8080/"
        },
        "id": "XBqUvMp3oXGM",
        "outputId": "83a03327-8204-4afe-f1b1-dd4d0bf3f457"
      },
      "execution_count": null,
      "outputs": [
        {
          "output_type": "stream",
          "name": "stdout",
          "text": [
            "RESOLUÇÃO DESAFIO 06\n",
            "Digite um número: 81\n",
            "O dobro de 81 vale 162.\n",
            "O triplo de 81 vale 243.\n",
            "A raiz quadrada de 81 vale 9.00.\n"
          ]
        }
      ]
    },
    {
      "cell_type": "markdown",
      "source": [
        "DESAFIO 07 - Desenvolva um programa que leia as duas notas de um aluno, calcule e mostre a sua média. "
      ],
      "metadata": {
        "id": "D8OMj4_daUPY"
      }
    },
    {
      "cell_type": "code",
      "source": [
        "print(\"DESAFIO 07\")\n",
        "n = float(input(\"Digite sua nota: \"))\n",
        "n1 = float(input(\"Digite sua outra nota: \"))\n",
        "v = n + n1\n",
        "print(\"A média das suas notas é {}\".format(v/2))"
      ],
      "metadata": {
        "colab": {
          "base_uri": "https://localhost:8080/"
        },
        "id": "GzQzleapcNKl",
        "outputId": "7603162a-555f-4bff-c959-fc48b048b82c"
      },
      "execution_count": null,
      "outputs": [
        {
          "output_type": "stream",
          "name": "stdout",
          "text": [
            "DESAFIO 06\n",
            "Digite sua nota: 5.5\n",
            "Digite sua outra nota: 2\n",
            "A média das suas notas é 3.75\n"
          ]
        }
      ]
    },
    {
      "cell_type": "code",
      "source": [
        "print(\"RESOLUÇÃO DESAFIO 07\")\n",
        "n1 = float(input(\"Primeira nota do aluno: \"))\n",
        "n2 = float(input(\"Segunda nota do aluno: \"))\n",
        "m = (n1 + n2)/2\n",
        "print(\"A média entre {} e {} é igual a {}\".format(n1, n2, m))"
      ],
      "metadata": {
        "colab": {
          "base_uri": "https://localhost:8080/"
        },
        "id": "ChR71VFayAGm",
        "outputId": "fac05d06-e34b-44e0-c096-5f270578edea"
      },
      "execution_count": null,
      "outputs": [
        {
          "output_type": "stream",
          "name": "stdout",
          "text": [
            "RESOLUÇÃO DESAFIO 07\n",
            "Primeira nota do aluno: 8\n",
            "Segunda nota do aluno: 4\n",
            "A média entre 8.0 e 4.0 é igual a 6.0\n"
          ]
        }
      ]
    },
    {
      "cell_type": "code",
      "source": [
        "print(\"RESOLUÇÃO DESAFIO 07 - COM ERRO\")\n",
        "n1 = float(input(\"Primeira nota do aluno: \"))\n",
        "n2 = float(input(\"Segunda nota do aluno: \"))\n",
        "m = n1 + n2 / 2\n",
        "print(\"A média entr {} e {} é igual a {}\".format(n1, n2, m))\n",
        "# está dividindo n2 por 2 e somando com n1, não dividindo a soma n1 + n2"
      ],
      "metadata": {
        "colab": {
          "base_uri": "https://localhost:8080/"
        },
        "id": "Wyby4TEdy2-9",
        "outputId": "0e47c495-0c0c-4c8e-a125-0805953957e5"
      },
      "execution_count": null,
      "outputs": [
        {
          "output_type": "stream",
          "name": "stdout",
          "text": [
            "RESOLUÇÃO DESAFIO 07 - COM ERRO\n",
            "Primeira nota do aluno: 8\n",
            "Segunda nota do aluno: 4\n",
            "A média entr 8.0 e 4.0 é igual a 10.0\n"
          ]
        }
      ]
    },
    {
      "cell_type": "markdown",
      "source": [
        "DESAFIO 08 - Escreva uma programa que leia um valor em metros e o exiba convertido em centimetros e milimetros."
      ],
      "metadata": {
        "id": "cNLtxnisafWR"
      }
    },
    {
      "cell_type": "code",
      "source": [
        "print(\"DESAFIO 08\")\n",
        "n = float(input(\"Digite um valor da parede do seu quatro em metros: \"))\n",
        "cm = n*100\n",
        "mm = n*1000\n",
        "print(\"O valor em centimentros é {} cm. Em milimetros é {} mm\"\n",
        ".format(cm, mm))"
      ],
      "metadata": {
        "colab": {
          "base_uri": "https://localhost:8080/"
        },
        "id": "7bQlBN-2cNgS",
        "outputId": "7da61fe4-3430-419c-fbfb-353cd38f8ee1"
      },
      "execution_count": null,
      "outputs": [
        {
          "output_type": "stream",
          "name": "stdout",
          "text": [
            "DESAFIO 08\n",
            "Digite um valor da parede do seu quatro em metros: 5\n",
            "O valor em centimentros é 500.0 cm. E em milimetros é 5000.0 mm\n"
          ]
        }
      ]
    },
    {
      "cell_type": "code",
      "source": [
        "print(\"RESOLUÇÃO DESAFIO 08\")\n",
        "medida = float(input(\"Uma distância em metros: \"))\n",
        "cm = medida * 100\n",
        "mm = medida * 1000\n",
        "print(\"A medida de {}m corresponde a {:.0f}cm e {:.0f}mm\".format(medida, cm, mm))"
      ],
      "metadata": {
        "colab": {
          "base_uri": "https://localhost:8080/"
        },
        "id": "_6_nMTNFd0Hx",
        "outputId": "8449dc73-a70f-44cf-c37a-a1172e645c69"
      },
      "execution_count": null,
      "outputs": [
        {
          "output_type": "stream",
          "name": "stdout",
          "text": [
            "RESOLUÇÃO DESAFIO 08\n",
            "Uma distância em metros: 2.5\n",
            "A medida de 2.5m corresponde a 250cm e 2500mm\n"
          ]
        }
      ]
    },
    {
      "cell_type": "code",
      "source": [
        "print(\"DESAFIO 08 COM PLUS\")\n",
        "m = float(input(\"Digite uma distância em metros: \"))\n",
        "km = m / 1000\n",
        "hm = m / 100\n",
        "dam = m / 10\n",
        "dm = m * 10\n",
        "cm = m * 100\n",
        "mm = m * 1000\n",
        "print(f\"A medida de {m}m corresponde a {km}km\")\n",
        "print(f\"A medida de {m}m corresponde a {hm}hm\")\n",
        "print(f\"A medida de {m}m corresponde a {dam}dam\")\n",
        "print(f\"A medida de {m}m corresponde a {dm}dm\")\n",
        "print(f\"A medida de {m}m corresponde a {cm}cm\")\n",
        "print(f\"A medida de {m}m corresponde a {mm}mm\")"
      ],
      "metadata": {
        "colab": {
          "base_uri": "https://localhost:8080/"
        },
        "id": "DgIxxGgje8C0",
        "outputId": "d0ed7447-e821-4df0-9e2e-d296c74c794a"
      },
      "execution_count": null,
      "outputs": [
        {
          "output_type": "stream",
          "name": "stdout",
          "text": [
            "DESAFIO 08 COM PLUS\n",
            "Digite uma distância em metros: 5\n",
            "A medida de 5.0m corresponde a 0.005km\n",
            "A medida de 5.0m corresponde a 0.05hm\n",
            "A medida de 5.0m corresponde a 0.5dam\n",
            "A medida de 5.0m corresponde a 50.0dm\n",
            "A medida de 5.0m corresponde a 500.0cm\n",
            "A medida de 5.0m corresponde a 5000.0mm\n"
          ]
        }
      ]
    },
    {
      "cell_type": "markdown",
      "source": [
        "DESAFIO 09 - Faça um programa que leia um número inteiro qualquer e mostre na tela a sua tabuada. "
      ],
      "metadata": {
        "id": "GozGhTtRar8G"
      }
    },
    {
      "cell_type": "code",
      "source": [
        "print(\"DESAFIO 09\")\n",
        "v = int(input(\"Digite um número para ver sua tabuada: \"))\n",
        "print(\"A tabuada do seu é {}, {}, {}, {}, {}, {}, {}, {}, {}, {}.\"\n",
        ".format(v*1, v*2, v*3, v*4, v*5, v*6, v*7, v*8, v*9, v*10))"
      ],
      "metadata": {
        "colab": {
          "base_uri": "https://localhost:8080/"
        },
        "id": "S8wvMgy3cN-O",
        "outputId": "d9244f16-f43e-4c6a-d3df-67284a563d64"
      },
      "execution_count": null,
      "outputs": [
        {
          "output_type": "stream",
          "name": "stdout",
          "text": [
            "DESAFIO 09\n",
            "Digite um número para ver sua tabuada: 5\n",
            "A tabuada do seu é 5, 10, 15, 20, 25, 30, 35, 40, 45, 50.\n"
          ]
        }
      ]
    },
    {
      "cell_type": "code",
      "source": [
        "print(\"RESOLUÇÃO DESAFIO 09\")\n",
        "n = int(input(\"Digite um número para ver sua tabuada: \"))\n",
        "print(\"-\"*12)\n",
        "print(\"{} x {:2} = {}\".format(n, 1, n*1))\n",
        "print(\"{} x {:2} = {}\".format(n, 2, n*2))\n",
        "print(\"{} x {:2} = {}\".format(n, 3, n*3))\n",
        "print(\"{} x {:2} = {}\".format(n, 4, n*4))\n",
        "print(f\"{n} x {5:2} = {n*5}\")\n",
        "print(f\"{n} x {6:2} = {n*6}\")\n",
        "print(f\"{n} x {7:2} = {n*7}\")\n",
        "print(f\"{n} x {8:2} = {n*8}\")\n",
        "print(f\"{n} x {9:2} = {n*9}\")\n",
        "print(f\"{n} x {10} = {n*10}\")\n",
        "print(\"-\"*12)"
      ],
      "metadata": {
        "colab": {
          "base_uri": "https://localhost:8080/"
        },
        "id": "QUXhs2sAhHcn",
        "outputId": "783cbab5-38fb-48a1-9587-1ecbad423d8d"
      },
      "execution_count": null,
      "outputs": [
        {
          "output_type": "stream",
          "name": "stdout",
          "text": [
            "RESOLUÇÃO DESAFIO 09\n",
            "Digite um número para ver sua tabuada: 8\n",
            "------------\n",
            "8 x  1 = 8\n",
            "8 x  2 = 16\n",
            "8 x  3 = 24\n",
            "8 x  4 = 32\n",
            "8 x  5 = 40\n",
            "8 x  6 = 48\n",
            "8 x  7 = 56\n",
            "8 x  8 = 64\n",
            "8 x  9 = 72\n",
            "8 x 10 = 80\n",
            "------------\n"
          ]
        }
      ]
    },
    {
      "cell_type": "markdown",
      "source": [
        "DESAFIO 10 - Crie um programa que leia quanto dinheiro uma pessoa tem na carteira e mostre quantos dólares ela pode comprar.\n",
        "Considere 1 dólar igual a 3,27 reais. "
      ],
      "metadata": {
        "id": "z--83Qg_a0ft"
      }
    },
    {
      "cell_type": "code",
      "source": [
        "print(\"DESAFIO 10\")\n",
        "c = float(input(\"Quantos reais você tem na sua carteira? \"))\n",
        "print(\"Os seus reais equivalvem a {} dolares\".format(c/3.27))"
      ],
      "metadata": {
        "colab": {
          "base_uri": "https://localhost:8080/"
        },
        "id": "tXr_mL33cOYw",
        "outputId": "461fc26a-73b2-4662-a34e-adc02b99c8a0"
      },
      "execution_count": null,
      "outputs": [
        {
          "output_type": "stream",
          "name": "stdout",
          "text": [
            "DESAFIO 10\n",
            "Quantos reais você tem na sua carteira? 125\n",
            "Os seus reais equivalvem a 38.2262996941896 dolares\n"
          ]
        }
      ]
    },
    {
      "cell_type": "code",
      "source": [
        "print(\"RESOLUÇÃO DESAFIO 10\")\n",
        "real = float(input(\"Quanto dinheiro você tem na carteira? R$\"))\n",
        "dolar = real / 3.27\n",
        "print(\"Com R${:.2f} você pode comprar US${:.2f}\".format(real, dolar))"
      ],
      "metadata": {
        "colab": {
          "base_uri": "https://localhost:8080/"
        },
        "id": "qcDmAV4AlXzi",
        "outputId": "deb5bf5c-380f-4891-c326-b7a937b59155"
      },
      "execution_count": null,
      "outputs": [
        {
          "output_type": "stream",
          "name": "stdout",
          "text": [
            "RESOLUÇÃO DESAFIO 10\n",
            "Quanto dinheiro você tem na carteira? R$125\n",
            "Com R$125.00 você pode comprar US$38.23\n"
          ]
        }
      ]
    },
    {
      "cell_type": "code",
      "source": [
        "print(\"DESAFIO 10 COM PLUS\")\n",
        "r = float(input(\"Quanto dinheiro você tem na carteira? R$\"))\n",
        "d = r / 4.83\n",
        "e = r / 5.17\n",
        "l = r / 6.04\n",
        "print(\"Com R${:.2f} você pode comprar US${:.2f}\".format(r, d))\n",
        "print(\"Com R${:.2f} você pode comprar €{:.2f}\".format(r, e))\n",
        "print(\"Com R${:.2f} você pode comprar £{:.2f}\".format(r, l))"
      ],
      "metadata": {
        "colab": {
          "base_uri": "https://localhost:8080/"
        },
        "id": "Cas3Zpj_no9b",
        "outputId": "f61d63cd-9ff0-4c75-dbbe-1c9218b5eb55"
      },
      "execution_count": null,
      "outputs": [
        {
          "output_type": "stream",
          "name": "stdout",
          "text": [
            "DESAFIO 10 COM PLUS\n",
            "Quanto dinheiro você tem na carteira? R$100\n",
            "Com R$100.00 você pode comprar US$20.70\n",
            "Com R$100.00 você pode comprar €19.34\n",
            "Com R$100.00 você pode comprar £16.56\n"
          ]
        }
      ]
    },
    {
      "cell_type": "markdown",
      "source": [
        "DESAFIO 11 - Faça um programa que leia a largura e a altura de uma parede em metros, calcule a sua área e a quantidade de tinta necessária para pintá-la, sabendo que cada litro de tinta pinta uma área de 2m²."
      ],
      "metadata": {
        "id": "k3HgYzlDbTM1"
      }
    },
    {
      "cell_type": "code",
      "source": [
        "print(\"DESAFIO 11\")\n",
        "l = float(input(\"Digite a largura da sua parede em metros: \"))\n",
        "a = float(input(\"Digite a altura da sua parede em metros: \"))\n",
        "area = l * a\n",
        "p = 2\n",
        "print(f\"Considerando que a largura da sua parede é {l} e a altura é {a} a area total será de {area}m².\")\n",
        "print(f\"E será utilizado {(area/p)} litros de tinta para pintar a parede.\")"
      ],
      "metadata": {
        "id": "OmrrtvkTcOuf",
        "colab": {
          "base_uri": "https://localhost:8080/"
        },
        "outputId": "9359455c-1ade-4a94-ae19-4769bc81b6d0"
      },
      "execution_count": null,
      "outputs": [
        {
          "output_type": "stream",
          "name": "stdout",
          "text": [
            "DESAFIO 11\n",
            "Digite a largura da sua parede em metros: 3\n",
            "Digite a altura da sua parede em metros: 2\n",
            "Considerando que a largura da sua parede é 3.0 e a altura é 2.0 a area total será de 6.0m²\n",
            "E será utilizado 3.0 litros de tinta para pintar a parede\n"
          ]
        }
      ]
    },
    {
      "cell_type": "code",
      "source": [
        "print(\"RESOLUÇÃO DESAFIO 11\")\n",
        "larg = float(input(\"Largura da parede: \"))\n",
        "alt = float(input(\"Altura da parede: \"))\n",
        "area = larg * alt\n",
        "print(\"Sua parede tem a dimensão de {}x{} e sua área é de {}m².\".format(larg, alt, area))\n",
        "tinta = area / 2\n",
        "print(\"Para pintar essa parede, você precisará de {}l de tinta\".format(tinta))"
      ],
      "metadata": {
        "colab": {
          "base_uri": "https://localhost:8080/"
        },
        "id": "WQ2XXe2HFcbF",
        "outputId": "929a4aad-8e41-4fda-abac-7f85c3cc8069"
      },
      "execution_count": null,
      "outputs": [
        {
          "output_type": "stream",
          "name": "stdout",
          "text": [
            "RESOLUÇÃO DESAFIO 11\n",
            "Largura da parede: 5\n",
            "Altura da parede: 5\n",
            "Sua parede tem a dimensão de 5.0x5.0 e sua área é de 25.0m².\n",
            "Para pintar essa parede, você precisará de 12.5l de tinta\n"
          ]
        }
      ]
    },
    {
      "cell_type": "markdown",
      "source": [
        "DESAFIO 12 - Faça um algoritmo que leia um preço de um produto e mostre seu novo preço, com 5% de desconto."
      ],
      "metadata": {
        "id": "D1acd1UrbpGx"
      }
    },
    {
      "cell_type": "code",
      "source": [
        "print(\"DESAFIO 12\")\n",
        "f = float(input(\"Quanto ta custando um saco de feijão? R$\"))\n",
        "d = 0.95\n",
        "print(\"O saco de feijão com um desconto de 5% está custando {:.2f}\".format(f*d))"
      ],
      "metadata": {
        "id": "03G9S_4pcPGx",
        "colab": {
          "base_uri": "https://localhost:8080/"
        },
        "outputId": "270d1923-5efc-4e62-8db1-3ddbe4c257f8"
      },
      "execution_count": null,
      "outputs": [
        {
          "output_type": "stream",
          "name": "stdout",
          "text": [
            "DESAFIO 12\n",
            "Quanto ta custando um saco de feijão? R$546\n",
            "O saco de feijão com um desconto de 5% está custando 518.70\n"
          ]
        }
      ]
    },
    {
      "cell_type": "code",
      "source": [
        "print(\"RESOLUÇÃO DESAFIO 12\")\n",
        "preço = float(input(\"Qual é o preço do produto? R$\"))\n",
        "novo = preço - (preço * 5 / 100)\n",
        "print(\"O produto que custava R${:.2f}, na promoção com desconto de 5% vai custar R${:.2f}\".format(preço, novo))"
      ],
      "metadata": {
        "colab": {
          "base_uri": "https://localhost:8080/"
        },
        "id": "EQFmyDbpMrLB",
        "outputId": "294393f7-bac7-40c8-9d45-5ffc878f6909"
      },
      "execution_count": null,
      "outputs": [
        {
          "output_type": "stream",
          "name": "stdout",
          "text": [
            "RESOLUÇÃO DESAFIO 12\n",
            "Qual é o preço do produto? R$100\n",
            "O produto que custava R$100.00, na promoção com desconto de 5% vai custar R$95.00\n"
          ]
        }
      ]
    },
    {
      "cell_type": "markdown",
      "source": [
        "DESAFIO 13 - Faça um algoritmo que leia o salário de um funcionário e mostre seu novo salário, com 15% de aumento. "
      ],
      "metadata": {
        "id": "IOV3p3Nvb_Vw"
      }
    },
    {
      "cell_type": "code",
      "source": [
        "print(\"DESAFIO 13\")\n",
        "s = float(input(\"Qual é o seu salário? \"))\n",
        "a = 1.15\n",
        "print(\"O seu novo salário, com um aumento de 15%, é {:.2f}\".format(s*a))"
      ],
      "metadata": {
        "id": "PMcetOWucPdv",
        "colab": {
          "base_uri": "https://localhost:8080/"
        },
        "outputId": "05b61c24-e229-4a12-af2f-8cc73ba86178"
      },
      "execution_count": null,
      "outputs": [
        {
          "output_type": "stream",
          "name": "stdout",
          "text": [
            "DESAFIO 13\n",
            "Qual é o seu salário? 4319.43\n",
            "O seu novo salário, com um aumento de 15%, é 4967.34\n"
          ]
        }
      ]
    },
    {
      "cell_type": "code",
      "source": [
        "print(\"RESOLUÇÃO DESAFIO 13\")\n",
        "salário = float(input(\"Qual é o salário do funcionário? R$\"))\n",
        "novo = salário + (salário * 15 / 100)\n",
        "print(\"Um funcionário que ganhava R${:.2f}, com 15% de aumento, passa a receber R${:.2f}\".format(salário, novo))"
      ],
      "metadata": {
        "colab": {
          "base_uri": "https://localhost:8080/"
        },
        "id": "YxExNSR5PvGQ",
        "outputId": "a225e924-23e3-4b8a-e1be-14e6c887d774"
      },
      "execution_count": null,
      "outputs": [
        {
          "output_type": "stream",
          "name": "stdout",
          "text": [
            "RESOLUÇÃO DESAFIO 13\n",
            "Qual é o salário do funcionário? R$1000\n",
            "Um funcionário que ganhava R$1000.00, com 15% de aumento, passa a receber R$1150.00\n"
          ]
        }
      ]
    },
    {
      "cell_type": "markdown",
      "source": [
        "DESAFIO 14 - Escreva um programa que covnerta uma temperatura digitada em ºC e converta para ºF."
      ],
      "metadata": {
        "id": "Ax5q1oUvR7DB"
      }
    },
    {
      "cell_type": "code",
      "source": [
        "c = float(input(\"Qual a temperatura em graus celsius da sua cidade? \"))\n",
        "f = (c * 1.8) + 32\n",
        "print(f\"A temperatura em {c}ºC corresponde a {f}ºF\")"
      ],
      "metadata": {
        "colab": {
          "base_uri": "https://localhost:8080/"
        },
        "id": "L5vFdPzpSaSr",
        "outputId": "fcd2a41e-9392-4ce2-b769-49cdd76d016f"
      },
      "execution_count": null,
      "outputs": [
        {
          "output_type": "stream",
          "name": "stdout",
          "text": [
            "Qual a temperatura em graus celsius da sua cidade? 32\n",
            "A temperatura em 32.0ºC corresponde a 89.6ºF\n"
          ]
        }
      ]
    },
    {
      "cell_type": "code",
      "source": [
        "print(\"RESOLUÇÃO DESAFIO 14\")\n",
        "c = float(input(\"Informe a temperatura em ºC: \"))\n",
        "f = ((9 * c) / 5) + 32\n",
        "print(\"A temperatura em {}ºC corresponde a {}ºF\".format(c, f))"
      ],
      "metadata": {
        "colab": {
          "base_uri": "https://localhost:8080/"
        },
        "id": "4M0ff5wnS90q",
        "outputId": "e8a8858c-3196-47da-ee84-1db86c4815df"
      },
      "execution_count": null,
      "outputs": [
        {
          "output_type": "stream",
          "name": "stdout",
          "text": [
            "RESOLUÇÃO DESAFIO 14\n",
            "Informe a temperatura em ºC: 45\n",
            "A temperatura em 45.0ºC corresponde a 113.0ºF\n"
          ]
        }
      ]
    },
    {
      "cell_type": "markdown",
      "source": [
        "DESAFIO 15 - Escreva um programa que pergunte a quantidade de Km percorridos por um carro alugado e a quantidade de dias pelos quais ele foi alugado. Calcule o preço a pagar, sabendo que o carro custa 60 reais por dia e 0,15 reais por Km rodado."
      ],
      "metadata": {
        "id": "GtWCgGpjUFEs"
      }
    },
    {
      "cell_type": "code",
      "source": [
        "print(\"DESAFIO 15\")\n",
        "km = float(input(\"Quantos Km foram rodados? \"))\n",
        "dia = int(input(\"Quantos dias de aluguel? \"))\n",
        "pkm = km * 0.15\n",
        "pdia = dia * 60\n",
        "print(f\"O total a pagar será de R${(pkm + pdia):.2f}\")"
      ],
      "metadata": {
        "colab": {
          "base_uri": "https://localhost:8080/"
        },
        "id": "NivIWV_5U08w",
        "outputId": "8b14e53f-bae3-497c-983f-f4efec43a491"
      },
      "execution_count": null,
      "outputs": [
        {
          "output_type": "stream",
          "name": "stdout",
          "text": [
            "DESAFIO 15\n",
            "Quantos Km foram rodados? 720\n",
            "Quantos dias de aluguel? 8\n",
            "O total a pagar será de R$588.00\n"
          ]
        }
      ]
    },
    {
      "cell_type": "code",
      "source": [
        "print(\"RESOLUÇÃO DESAFIO 15\")\n",
        "dias = int(input(\"Quantos dias alugados? \"))\n",
        "km = float(input(\"Quantos Km rodados? \"))\n",
        "pago = (dias * 60) + (km * 0.15)\n",
        "print(\"O total a pagar será de R${:.2f}\".format(pago))"
      ],
      "metadata": {
        "colab": {
          "base_uri": "https://localhost:8080/"
        },
        "id": "LFh55VhIVgsU",
        "outputId": "adf8fc2b-2211-4ba7-9bed-6aa0d68fb2fa"
      },
      "execution_count": null,
      "outputs": [
        {
          "output_type": "stream",
          "name": "stdout",
          "text": [
            "RESOLUÇÃO DESAFIO 15\n",
            "Quantos dias alugados? 3\n",
            "Quantos Km rodados? 350\n",
            "O total a pagar será de R$232.50\n"
          ]
        }
      ]
    },
    {
      "cell_type": "markdown",
      "source": [
        "DESAFIO 16 - Crie um programa que leia um número real qualquer pelo teclado e mostre na tela a sua porção Inteira."
      ],
      "metadata": {
        "id": "GACNeIfYmFy5"
      }
    },
    {
      "cell_type": "code",
      "source": [
        "import math\n",
        "print(\"DESAFIO 16\")\n",
        "n = float(input(\"Digite um número real: \"))\n",
        "print(f\"O seu número {n} e ele inteiro é {math.floor(n)}\")\n",
        "print(f\"O seu número {n} e ele inteiro é {math.trunc(n)}\")"
      ],
      "metadata": {
        "colab": {
          "base_uri": "https://localhost:8080/"
        },
        "id": "uWQYKHfkmKR1",
        "outputId": "703de696-1dbb-4b2d-8111-a7336f79ca3b"
      },
      "execution_count": null,
      "outputs": [
        {
          "output_type": "stream",
          "name": "stdout",
          "text": [
            "DESAFIO 16\n",
            "Digite um número real: 9.14875\n",
            "O seu número 9.14875 e ele inteiro é 9\n",
            "O seu número 9.14875 e ele inteiro é 9\n"
          ]
        }
      ]
    },
    {
      "cell_type": "code",
      "source": [
        "print(\"RESOLUÇÃO DESAFIO 16\")\n",
        "import math\n",
        "num = float(input(\"Digite um valor: \"))\n",
        "print(\"O valor digitado é {} e a sua porção inteira é {}\".format(num, math.trunc(num)))"
      ],
      "metadata": {
        "colab": {
          "base_uri": "https://localhost:8080/"
        },
        "id": "EY7IcOHxplOl",
        "outputId": "6175953b-9253-436e-d7c8-81abeee02727"
      },
      "execution_count": null,
      "outputs": [
        {
          "output_type": "stream",
          "name": "stdout",
          "text": [
            "RESOLUÇÃO DESAFIO 16\n",
            "Digite um valor: 9.145\n",
            "O valor digitado é 9.145 e a sua porção inteira é 9\n"
          ]
        }
      ]
    },
    {
      "cell_type": "code",
      "source": [
        "print(\"RESOLUÇÃO DESAFIO 16\")\n",
        "from math import trunc\n",
        "num = float(input(\"Digite um valor: \"))\n",
        "print(\"O valor digitado é {} e a sua porção inteira é {}\".format(num, trunc(num)))"
      ],
      "metadata": {
        "colab": {
          "base_uri": "https://localhost:8080/"
        },
        "id": "lurfx2ouqllf",
        "outputId": "5ab670c1-8e14-4734-d8d9-a4464711ddd7"
      },
      "execution_count": null,
      "outputs": [
        {
          "output_type": "stream",
          "name": "stdout",
          "text": [
            "RESOLUÇÃO DESAFIO 16\n",
            "Digite um valor: 6.01918\n",
            "O valor digitado é 6.01918 e a sua porção inteira é 6\n"
          ]
        }
      ]
    },
    {
      "cell_type": "code",
      "source": [
        "print(\"RESOLUÇÃO DESAFIO 16\")\n",
        "num = float(input(\"Digite um valor: \"))\n",
        "print(\"O valor digitado foi {} e a sua porção inteira é {}\".format(num, int(num)))"
      ],
      "metadata": {
        "colab": {
          "base_uri": "https://localhost:8080/"
        },
        "id": "_dCuf4IArJuq",
        "outputId": "5bae2110-fcad-4cc7-c8f3-b6a5f4b8b814"
      },
      "execution_count": null,
      "outputs": [
        {
          "output_type": "stream",
          "name": "stdout",
          "text": [
            "RESOLUÇÃO DESAFIO 16\n",
            "Digite um valor: 8.541\n",
            "O valor digitado foi 8.541 e a sua porção inteira é 8\n"
          ]
        }
      ]
    },
    {
      "cell_type": "markdown",
      "source": [
        "DESAFIO 17 - Faça um programa que leia o comprimento do cateto oposto e do cateto adjacente de um triângulo retângulo, calcule e mostre o comprimento da hipotenusa. "
      ],
      "metadata": {
        "id": "7Tl3F8BhmK1-"
      }
    },
    {
      "cell_type": "code",
      "source": [
        "import math\n",
        "print(\"DESAFIO 17\")\n",
        "co = float(input(\"Digite o valor do cateto oposto: \"))\n",
        "ca = float(input(\"Digite o valor do catato adjacente: \"))\n",
        "h = math.sqrt(math.pow(co,2) + math.pow(ca,2)) \n",
        "print(f\"O resultado da hipotesnusa é {h}\")"
      ],
      "metadata": {
        "id": "1WycuTvhmjHY",
        "colab": {
          "base_uri": "https://localhost:8080/"
        },
        "outputId": "503c3263-01df-4efd-fe38-c1899436a851"
      },
      "execution_count": null,
      "outputs": [
        {
          "output_type": "stream",
          "name": "stdout",
          "text": [
            "DESAFIO 17\n",
            "Digite o valor do cateto oposto: 8\n",
            "Digite o valor do catato adjacente: 9\n",
            "O resultado da hipotesnusa é 12.041594578792296\n"
          ]
        }
      ]
    },
    {
      "cell_type": "code",
      "source": [
        "print(\"RESOLUÇÃO DESAFIO 17\")\n",
        "co = float(input(\"Comprimento do cateto oposto: \"))\n",
        "ca = float(input(\"Comprimento do cateto adjacente: \"))\n",
        "hi = (co ** 2 + ca ** 2) ** (1/2)\n",
        "print(\"A hipotenusa vai medir {:.2f}\".format(hi))"
      ],
      "metadata": {
        "colab": {
          "base_uri": "https://localhost:8080/"
        },
        "id": "uowpwAPEZ1KK",
        "outputId": "a9402e2a-b989-4780-ba88-7c53b483c17e"
      },
      "execution_count": null,
      "outputs": [
        {
          "output_type": "stream",
          "name": "stdout",
          "text": [
            "RESOLUÇÃO DESAFIO 17\n",
            "Comprimento do cateto oposto: 2\n",
            "Comprimento do cateto adjacente: 2.5\n",
            "A hipotenusa vai medir 3.20\n"
          ]
        }
      ]
    },
    {
      "cell_type": "code",
      "source": [
        "print(\"RESOLUÇÃO DESAFIO 17\")\n",
        "import math\n",
        "# from math import hypot \n",
        "co = float(input(\"Comprimento do cateto oposto: \"))\n",
        "ca = float(input(\"Comprimento do cateto adjacente: \"))\n",
        "hi = math.hypot(co, ca)\n",
        "# hi = hypot(co, ca)\n",
        "print(\"A hipotenusa vai medir {:.2f}\".format(hi))"
      ],
      "metadata": {
        "colab": {
          "base_uri": "https://localhost:8080/"
        },
        "id": "LSYTNfZLbBni",
        "outputId": "a27d295b-4040-44ea-a58b-f6af00e35370"
      },
      "execution_count": null,
      "outputs": [
        {
          "output_type": "stream",
          "name": "stdout",
          "text": [
            "RESOLUÇÃO DESAFIO 17\n",
            "Comprimento do cateto oposto: 8\n",
            "Comprimento do cateto adjacente: 3\n",
            "A hipotenusa vai medir 8.54\n"
          ]
        }
      ]
    },
    {
      "cell_type": "markdown",
      "source": [
        "DESAFIO 18 - Faça um programa que leia um ângulo qualquer e mostre na tela o valor do seno, cosseno e a tângente desse ângulo. "
      ],
      "metadata": {
        "id": "60XMtdYRmsNR"
      }
    },
    {
      "cell_type": "code",
      "source": [
        ""
      ],
      "metadata": {
        "id": "K9gWJACtnE6X"
      },
      "execution_count": null,
      "outputs": []
    },
    {
      "cell_type": "markdown",
      "source": [
        "DESAFIO 19 - Um professor quer sortear um dos seus quatros alunos para apagar o quadro. Faça um programa que ajude o professor, lendo o nome deles e escrevendo o nome do escolhido. "
      ],
      "metadata": {
        "id": "9VquL8TknFhL"
      }
    },
    {
      "cell_type": "code",
      "source": [
        ""
      ],
      "metadata": {
        "id": "JrvICQ1fnbPD"
      },
      "execution_count": null,
      "outputs": []
    },
    {
      "cell_type": "markdown",
      "source": [
        "DESAFIO 20 - O mesmo professor do desafio anterior quer sortear a ordem de apresentação de trabalho dos quatros alunos. Faça um programa que leia o nome dos quatros alunos e mostre a ordem sorteada. "
      ],
      "metadata": {
        "id": "ubNv7DF-ncPt"
      }
    },
    {
      "cell_type": "code",
      "source": [
        ""
      ],
      "metadata": {
        "id": "BEps9g0Andni"
      },
      "execution_count": null,
      "outputs": []
    },
    {
      "cell_type": "markdown",
      "source": [
        "DESAFIO 21 - Faça um programa em Python que abra e reproduza o áudio de um arquivo MP3."
      ],
      "metadata": {
        "id": "kM9H2X4lnd4l"
      }
    },
    {
      "cell_type": "code",
      "source": [
        ""
      ],
      "metadata": {
        "id": "j-6gc4Vnn-so"
      },
      "execution_count": null,
      "outputs": []
    }
  ]
}